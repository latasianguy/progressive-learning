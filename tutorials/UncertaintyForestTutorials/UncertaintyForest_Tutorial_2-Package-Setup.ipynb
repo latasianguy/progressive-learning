{
 "cells": [
  {
   "cell_type": "markdown",
   "metadata": {},
   "source": [
    "# Tutorial Overview\n",
    "This set of five tutorials (installation, package setup, data setup, running, analyzing) will explain the UncertaintyForest class. After following the steps below, you should have the ability to run the code on your own machine and interpret the results.\n",
    "\n",
    "If you haven't seen it already, take a look at the first part of this set of tutorials called `UncertaintyForest_Tutorials_1-Installation`\n",
    "\n",
    "# 2: Package Setup\n",
    "## *Goal: Create a virtual environment and install requirements per requirements.txt in order to run the UncertaintyForest class*\n",
    "\n",
    "### First, let's create the virtual environment \n",
    "**Note:** that the following instructions were designed for Mac operating systems. If you're running another OS, look for the equivalent steps tailored to that OS.\n",
    "\n",
    "1. Open the command line on your local machine (called \"Terminal\" on Mac)\n",
    "2. Navigate to the location where you'd like to put the virtual environment.\n",
    "    1. Find a location in a file explorer (\"Finder\" on Mac)\n",
    "    2. Type \"cd \" in the command prompt\n",
    "    3. Drag and drop the folder where you'd like to place the virtual environment from the file explorer to the command line\n",
    "    The command prompt should show something like:\n",
    "    `bstraus@BS-Mac ~ % cd /Users/bstraus/Desktop `\n",
    "3. Create the virtual environment by typing `python3 -m venv UncertaintyForestEnv`\n",
    "\n",
    "### Next, let's install the requirements for running the UncertaintyForest class\n",
    "4. Activate the virtual environment by typing `source UncertaintyForestEnv/bin/activate`\n",
    "5. Navigate to the folder `progressive-learning/docs/`. You can do this with the same process as in step 2 above.\n",
    "5. Install necessary packages by typing `pip install -r requirements.txt`\n",
    "6. You'll also want to install the following packages by typing the code below:\n",
    "    1.`pip install jupyterlab`\n",
    "    2.`pip install notebook`\n",
    "    3.`pip install numpy scipy pandas scikit-learn matplotlib seaborn joblib keras tensorflow`\n",
    "\n",
    "You now have set up your virtual environment and installed necessary packages. Note that you'll need to activate your virtual environment each time you want to run things for this class. You can do this easily by repeating steps 1, 2, and 4.\n",
    "\n",
    "### You're done with part 2 of the tutorial!\n",
    "\n",
    "### Move on to part 3 (called \"UncertaintyForest_Tutorial_3-Data-Setup\")"
   ]
  },
  {
   "cell_type": "code",
   "execution_count": null,
   "metadata": {},
   "outputs": [],
   "source": []
  }
 ],
 "metadata": {
  "kernelspec": {
   "display_name": "Python 3",
   "language": "python",
   "name": "python3"
  },
  "language_info": {
   "codemirror_mode": {
    "name": "ipython",
    "version": 3
   },
   "file_extension": ".py",
   "mimetype": "text/x-python",
   "name": "python",
   "nbconvert_exporter": "python",
   "pygments_lexer": "ipython3",
   "version": "3.7.0"
  }
 },
 "nbformat": 4,
 "nbformat_minor": 4
}
