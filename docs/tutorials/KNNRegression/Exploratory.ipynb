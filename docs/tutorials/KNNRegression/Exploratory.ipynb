{
 "cells": [
  {
   "cell_type": "code",
   "execution_count": 1,
   "metadata": {},
   "outputs": [
    {
     "name": "stderr",
     "output_type": "stream",
     "text": [
      "Using TensorFlow backend.\n",
      "C:\\Users\\shizh\\Anaconda3\\envs\\proglearn\\lib\\site-packages\\tensorflow\\python\\framework\\dtypes.py:516: FutureWarning: Passing (type, 1) or '1type' as a synonym of type is deprecated; in a future version of numpy, it will be understood as (type, (1,)) / '(1,)type'.\n",
      "  _np_qint8 = np.dtype([(\"qint8\", np.int8, 1)])\n",
      "C:\\Users\\shizh\\Anaconda3\\envs\\proglearn\\lib\\site-packages\\tensorflow\\python\\framework\\dtypes.py:517: FutureWarning: Passing (type, 1) or '1type' as a synonym of type is deprecated; in a future version of numpy, it will be understood as (type, (1,)) / '(1,)type'.\n",
      "  _np_quint8 = np.dtype([(\"quint8\", np.uint8, 1)])\n",
      "C:\\Users\\shizh\\Anaconda3\\envs\\proglearn\\lib\\site-packages\\tensorflow\\python\\framework\\dtypes.py:518: FutureWarning: Passing (type, 1) or '1type' as a synonym of type is deprecated; in a future version of numpy, it will be understood as (type, (1,)) / '(1,)type'.\n",
      "  _np_qint16 = np.dtype([(\"qint16\", np.int16, 1)])\n",
      "C:\\Users\\shizh\\Anaconda3\\envs\\proglearn\\lib\\site-packages\\tensorflow\\python\\framework\\dtypes.py:519: FutureWarning: Passing (type, 1) or '1type' as a synonym of type is deprecated; in a future version of numpy, it will be understood as (type, (1,)) / '(1,)type'.\n",
      "  _np_quint16 = np.dtype([(\"quint16\", np.uint16, 1)])\n",
      "C:\\Users\\shizh\\Anaconda3\\envs\\proglearn\\lib\\site-packages\\tensorflow\\python\\framework\\dtypes.py:520: FutureWarning: Passing (type, 1) or '1type' as a synonym of type is deprecated; in a future version of numpy, it will be understood as (type, (1,)) / '(1,)type'.\n",
      "  _np_qint32 = np.dtype([(\"qint32\", np.int32, 1)])\n",
      "C:\\Users\\shizh\\Anaconda3\\envs\\proglearn\\lib\\site-packages\\tensorflow\\python\\framework\\dtypes.py:525: FutureWarning: Passing (type, 1) or '1type' as a synonym of type is deprecated; in a future version of numpy, it will be understood as (type, (1,)) / '(1,)type'.\n",
      "  np_resource = np.dtype([(\"resource\", np.ubyte, 1)])\n",
      "C:\\Users\\shizh\\Anaconda3\\envs\\proglearn\\lib\\site-packages\\tensorboard\\compat\\tensorflow_stub\\dtypes.py:541: FutureWarning: Passing (type, 1) or '1type' as a synonym of type is deprecated; in a future version of numpy, it will be understood as (type, (1,)) / '(1,)type'.\n",
      "  _np_qint8 = np.dtype([(\"qint8\", np.int8, 1)])\n",
      "C:\\Users\\shizh\\Anaconda3\\envs\\proglearn\\lib\\site-packages\\tensorboard\\compat\\tensorflow_stub\\dtypes.py:542: FutureWarning: Passing (type, 1) or '1type' as a synonym of type is deprecated; in a future version of numpy, it will be understood as (type, (1,)) / '(1,)type'.\n",
      "  _np_quint8 = np.dtype([(\"quint8\", np.uint8, 1)])\n",
      "C:\\Users\\shizh\\Anaconda3\\envs\\proglearn\\lib\\site-packages\\tensorboard\\compat\\tensorflow_stub\\dtypes.py:543: FutureWarning: Passing (type, 1) or '1type' as a synonym of type is deprecated; in a future version of numpy, it will be understood as (type, (1,)) / '(1,)type'.\n",
      "  _np_qint16 = np.dtype([(\"qint16\", np.int16, 1)])\n",
      "C:\\Users\\shizh\\Anaconda3\\envs\\proglearn\\lib\\site-packages\\tensorboard\\compat\\tensorflow_stub\\dtypes.py:544: FutureWarning: Passing (type, 1) or '1type' as a synonym of type is deprecated; in a future version of numpy, it will be understood as (type, (1,)) / '(1,)type'.\n",
      "  _np_quint16 = np.dtype([(\"quint16\", np.uint16, 1)])\n",
      "C:\\Users\\shizh\\Anaconda3\\envs\\proglearn\\lib\\site-packages\\tensorboard\\compat\\tensorflow_stub\\dtypes.py:545: FutureWarning: Passing (type, 1) or '1type' as a synonym of type is deprecated; in a future version of numpy, it will be understood as (type, (1,)) / '(1,)type'.\n",
      "  _np_qint32 = np.dtype([(\"qint32\", np.int32, 1)])\n",
      "C:\\Users\\shizh\\Anaconda3\\envs\\proglearn\\lib\\site-packages\\tensorboard\\compat\\tensorflow_stub\\dtypes.py:550: FutureWarning: Passing (type, 1) or '1type' as a synonym of type is deprecated; in a future version of numpy, it will be understood as (type, (1,)) / '(1,)type'.\n",
      "  np_resource = np.dtype([(\"resource\", np.ubyte, 1)])\n"
     ]
    }
   ],
   "source": [
    "import random\n",
    "import matplotlib.pyplot as plt\n",
    "import seaborn as sns\n",
    "from sklearn.datasets import make_regression\n",
    "from sklearn.linear_model import LinearRegression\n",
    "from sklearn.metrics import mean_squared_error\n",
    "import pandas as pd\n",
    "\n",
    "import numpy as np\n",
    "from sklearn.tree import DecisionTreeClassifier, DecisionTreeRegressor\n",
    "\n",
    "from proglearn.progressive_learner import ProgressiveLearner\n",
    "from proglearn.deciders import SimpleAverage, KNNRegressionDecider\n",
    "from proglearn.transformers import TreeRegressionTransformer\n",
    "from proglearn.voters import TreeRegressionVoter"
   ]
  },
  {
   "cell_type": "code",
   "execution_count": 2,
   "metadata": {},
   "outputs": [],
   "source": [
    "# Function for generating Gaussian samples with a specific correlation and mean.\n",
    "def makeOutput(x):\n",
    "    # Return the L1 norm of the input array.\n",
    "    return np.sum(np.abs(x), axis=1)\n",
    "\n",
    "# Function for generating Gaussian samples with a specific correlation and mean.\n",
    "def generateGaussians(sample_size, corr, means):\n",
    "    # Assign the means and covariance.\n",
    "    mean = means\n",
    "    cov = [[1, corr], [corr, 1]]\n",
    "    # Create the multvariate normals.\n",
    "    x = np.random.multivariate_normal(mean, cov, sample_size)\n",
    "    # Create the outputs with the inputs.\n",
    "    z = makeOutput(x)\n",
    "    return x,z"
   ]
  },
  {
   "cell_type": "code",
   "execution_count": 3,
   "metadata": {},
   "outputs": [
    {
     "data": {
      "text/plain": [
       "<matplotlib.legend.Legend at 0x1cb411aa888>"
      ]
     },
     "execution_count": 3,
     "metadata": {},
     "output_type": "execute_result"
    },
    {
     "data": {
      "image/png": "[encoded data removed]",
      "text/plain": [
       "<Figure size 432x288 with 1 Axes>"
      ]
     },
     "metadata": {
      "needs_background": "light"
     },
     "output_type": "display_data"
    }
   ],
   "source": [
    "from sklearn.tree import DecisionTreeClassifier, DecisionTreeRegressor\n",
    "\n",
    "np.random.seed(0)\n",
    "\n",
    "test_mean = (-4, -4)\n",
    "samples = 1000\n",
    "corr = 0\n",
    "X1,Z1 = generateGaussians(samples, corr, test_mean)\n",
    "X1_test,Z1_test = generateGaussians(samples, corr, test_mean)\n",
    "\n",
    "transformer = DecisionTreeRegressor(max_depth=10).fit(X1, Z1)\n",
    "\n",
    "X2 = X1*-1\n",
    "\n",
    "plt.scatter(X1[:,0], X1[:,1])\n",
    "plt.scatter(X2[:,0], X2[:,1])\n",
    "plt.scatter(0,0)\n",
    "plt.legend(['fitted to decision tree','put through tree', 'origin'])"
   ]
  },
  {
   "cell_type": "code",
   "execution_count": 4,
   "metadata": {},
   "outputs": [
    {
     "name": "stdout",
     "output_type": "stream",
     "text": [
      "[1132 1132 1132 1132 1132 1132 1132 1132 1132 1132 1132 1132 1132 1132\n",
      " 1132 1132 1132 1132 1132 1132 1132 1132 1132 1132 1132 1132 1132 1132\n",
      " 1132 1132 1132 1132 1132 1132 1132 1132 1132 1132 1132 1132 1132 1132\n",
      " 1132 1132 1132 1132 1132 1132 1132 1132 1132 1132 1132 1132 1132 1132\n",
      " 1132 1132 1132 1132 1132 1132 1132 1132 1132 1132 1132 1132 1132 1132\n",
      " 1132 1132 1132 1132 1132 1132 1132 1132 1132 1132 1132 1132 1132 1132\n",
      " 1132 1132 1132 1132 1132 1132 1132 1132 1132 1132 1132 1132 1132 1132\n",
      " 1132 1132 1132 1132 1132 1132 1132 1132 1132 1132 1132 1132 1132 1132\n",
      " 1132 1132 1132 1132 1132 1132 1132 1132 1132 1132 1132 1132 1132 1132\n",
      " 1132 1132 1132 1132 1132 1132 1132 1132 1132 1132 1132 1132 1132 1132\n",
      " 1132 1132 1132 1132 1132 1132 1132 1132 1132 1132 1132 1132 1132 1132\n",
      " 1132 1132 1132 1132 1132 1132 1132 1132 1132 1132 1132 1132 1132 1132\n",
      " 1132 1132 1132 1132 1132 1132 1132 1132 1132 1132 1132 1132 1132 1132\n",
      " 1132 1132 1132 1132 1132 1132 1132 1132 1132 1132 1132 1132 1132 1132\n",
      " 1132 1132 1132 1132 1132 1132 1132 1132 1132 1132 1132 1132 1132 1132\n",
      " 1132 1132 1132 1132 1132 1132 1132 1132 1132 1132 1132 1132 1132 1132\n",
      " 1132 1132 1132 1132 1132 1132 1132 1132 1132 1132 1132 1132 1132 1132\n",
      " 1132 1132 1132 1132 1132 1132 1132 1132 1132 1132 1132 1132 1132 1132\n",
      " 1132 1132 1132 1132 1132 1132 1132 1132 1132 1132 1132 1132 1132 1132\n",
      " 1132 1132 1132 1132 1132 1132 1132 1132 1132 1132 1132 1132 1132 1132\n",
      " 1132 1132 1132 1132 1132 1132 1132 1132 1132 1132 1132 1132 1132 1132\n",
      " 1132 1132 1132 1132 1132 1132 1132 1132 1132 1132 1132 1132 1132 1132\n",
      " 1132 1132 1132 1132 1132 1132 1132 1132 1132 1132 1132 1132 1132 1132\n",
      " 1132 1132 1132 1132 1132 1132 1132 1132 1132 1132 1132 1132 1132 1132\n",
      " 1132 1132 1132 1132 1132 1132 1132 1132 1132 1132 1132 1132 1132 1132\n",
      " 1132 1132 1132 1132 1132 1132 1132 1132 1132 1132 1132 1132 1132 1132\n",
      " 1132 1132 1132 1132 1132 1132 1132 1132 1132 1132 1132 1132 1132 1132\n",
      " 1132 1132 1132 1132 1132 1132 1132 1132 1132 1132 1132 1132 1132 1132\n",
      " 1132 1132 1132 1132 1132 1132 1132 1132 1132 1132 1132 1132 1132 1132\n",
      " 1132 1132 1132 1132 1132 1132 1132 1132 1132 1132 1132 1132 1132 1132\n",
      " 1132 1132 1132 1132 1132 1132 1132 1132 1132 1132 1132 1132 1132 1132\n",
      " 1132 1132 1132 1132 1132 1132 1132 1132 1132 1132 1132 1132 1132 1132\n",
      " 1132 1132 1132 1132 1132 1132 1132 1132 1132 1132 1132 1132 1132 1132\n",
      " 1132 1132 1132 1132 1132 1132 1132 1132 1132 1132 1132 1132 1132 1132\n",
      " 1132 1132 1132 1132 1132 1132 1132 1132 1132 1132 1132 1132 1132 1132\n",
      " 1132 1132 1132 1132 1132 1132 1132 1132 1132 1132 1132 1132 1132 1132\n",
      " 1132 1132 1132 1132 1132 1132 1132 1132 1132 1132 1132 1132 1132 1132\n",
      " 1132 1132 1132 1132 1132 1132 1132 1132 1132 1132 1132 1132 1132 1132\n",
      " 1132 1132 1132 1132 1132 1132 1132 1132 1132 1132 1132 1132 1132 1132\n",
      " 1132 1132 1132 1132 1132 1132 1132 1132 1132 1132 1132 1132 1132 1132\n",
      " 1132 1132 1132 1132 1132 1132 1132 1132 1132 1132 1132 1132 1132 1132\n",
      " 1132 1132 1132 1132 1132 1132 1132 1132 1132 1132 1132 1132 1132 1132\n",
      " 1132 1132 1132 1132 1132 1132 1132 1132 1132 1132 1132 1132 1132 1132\n",
      " 1132 1132 1132 1132 1132 1132 1132 1132 1132 1132 1132 1132 1132 1132\n",
      " 1132 1132 1132 1132 1132 1132 1132 1132 1132 1132 1132 1132 1132 1132\n",
      " 1132 1132 1132 1132 1132 1132 1132 1132 1132 1132 1132 1132 1132 1132\n",
      " 1132 1132 1132 1132 1132 1132 1132 1132 1132 1132 1132 1132 1132 1132\n",
      " 1132 1132 1132 1132 1132 1132 1132 1132 1132 1132 1132 1132 1132 1132\n",
      " 1132 1132 1132 1132 1132 1132 1132 1132 1132 1132 1132 1132 1132 1132\n",
      " 1132 1132 1132 1132 1132 1132 1132 1132 1132 1132 1132 1132 1132 1132\n",
      " 1132 1132 1132 1132 1132 1132 1132 1132 1132 1132 1132 1132 1132 1132\n",
      " 1132 1132 1132 1132 1132 1132 1132 1132 1132 1132 1132 1132 1132 1132\n",
      " 1132 1132 1132 1132 1132 1132 1132 1132 1132 1132 1132 1132 1132 1132\n",
      " 1132 1132 1132 1132 1132 1132 1132 1132 1132 1132 1132 1132 1132 1132\n",
      " 1132 1132 1132 1132 1132 1132 1132 1132 1132 1132 1132 1132 1132 1132\n",
      " 1132 1132 1132 1132 1132 1132 1132 1132 1132 1132 1132 1132 1132 1132\n",
      " 1132 1132 1132 1132 1132 1132 1132 1132 1132 1132 1132 1132 1132 1132\n",
      " 1132 1132 1132 1132 1132 1132 1132 1132 1132 1132 1132 1132 1132 1132\n",
      " 1132 1132 1132 1132 1132 1132 1132 1132 1132 1132 1132 1132 1132 1132\n",
      " 1132 1132 1132 1132 1132 1132 1132 1132 1132 1132 1132 1132 1132 1132\n",
      " 1132 1132 1132 1132 1132 1132 1132 1132 1132 1132 1132 1132 1132 1132\n",
      " 1132 1132 1132 1132 1132 1132 1132 1132 1132 1132 1132 1132 1132 1132\n",
      " 1132 1132 1132 1132 1132 1132 1132 1132 1132 1132 1132 1132 1132 1132\n",
      " 1132 1132 1132 1132 1132 1132 1132 1132 1132 1132 1132 1132 1132 1132\n",
      " 1132 1132 1132 1132 1132 1132 1132 1132 1132 1132 1132 1132 1132 1132\n",
      " 1132 1132 1132 1132 1132 1132 1132 1132 1132 1132 1132 1132 1132 1132\n",
      " 1132 1132 1132 1132 1132 1132 1132 1132 1132 1132 1132 1132 1132 1132\n",
      " 1132 1132 1132 1132 1132 1132 1132 1132 1132 1132 1132 1132 1132 1132\n",
      " 1132 1132 1132 1132 1132 1132 1132 1132 1132 1132 1132 1132 1132 1132\n",
      " 1132 1132 1132 1132 1132 1132 1132 1132 1132 1132 1132 1132 1132 1132\n",
      " 1132 1132 1132 1132 1132 1132 1132 1132 1132 1132 1132 1132 1132 1132\n",
      " 1132 1132 1132 1132 1132 1132]\n"
     ]
    }
   ],
   "source": [
    "leafs = transformer.apply(X2)\n",
    "print(leafs)"
   ]
  },
  {
   "cell_type": "code",
   "execution_count": 15,
   "metadata": {},
   "outputs": [
    {
     "data": {
      "text/plain": [
       "TreeRegressionVoter()"
      ]
     },
     "execution_count": 15,
     "metadata": {},
     "output_type": "execute_result"
    }
   ],
   "source": [
    "voter_good = TreeRegressionVoter()\n",
    "voter_bad = TreeRegressionVoter()\n",
    "voter_good.fit(transformer.apply(X1), Z1)\n",
    "voter_bad.fit(transformer.apply(-X1), Z1)"
   ]
  },
  {
   "cell_type": "code",
   "execution_count": 16,
   "metadata": {},
   "outputs": [
    {
     "ename": "TypeError",
     "evalue": "fit() missing 2 required positional arguments: 'transformer_id_to_transformers' and 'transformer_id_to_voters'",
     "output_type": "error",
     "traceback": [
      "\u001b[1;31m---------------------------------------------------------------------------\u001b[0m",
      "\u001b[1;31mTypeError\u001b[0m                                 Traceback (most recent call last)",
      "\u001b[1;32m<ipython-input-16-4250d6569869>\u001b[0m in \u001b[0;36m<module>\u001b[1;34m\u001b[0m\n\u001b[0;32m     12\u001b[0m \u001b[1;33m\u001b[0m\u001b[0m\n\u001b[0;32m     13\u001b[0m \u001b[0mdecider\u001b[0m \u001b[1;33m=\u001b[0m \u001b[0mKNNRegressionDecider\u001b[0m\u001b[1;33m(\u001b[0m\u001b[1;33m)\u001b[0m\u001b[1;33m\u001b[0m\u001b[1;33m\u001b[0m\u001b[0m\n\u001b[1;32m---> 14\u001b[1;33m \u001b[0mdecider\u001b[0m\u001b[1;33m.\u001b[0m\u001b[0mfit\u001b[0m\u001b[1;33m(\u001b[0m\u001b[0mX1\u001b[0m\u001b[1;33m,\u001b[0m \u001b[0mZ1\u001b[0m\u001b[1;33m)\u001b[0m\u001b[1;33m\u001b[0m\u001b[1;33m\u001b[0m\u001b[0m\n\u001b[0m",
      "\u001b[1;31mTypeError\u001b[0m: fit() missing 2 required positional arguments: 'transformer_id_to_transformers' and 'transformer_id_to_voters'"
     ]
    }
   ],
   "source": [
    "ensemble_1 = np.zeros((X1_test.shape[0], 1, 2))\n",
    "ensemble_2 = np.zeros((X1_test.shape[0], 1, 2))\n",
    "\n",
    "good_voter_bad_vote = voter_good.predict(transformer.apply(-X1_test)).reshape(X1_test.shape[0])\n",
    "good_voter_good_vote = voter_good.predict(transformer.apply(X1_test)).reshape(X1_test.shape[0])\n",
    "\n",
    "ensemble_1[:,0,0] = good_voter_bad_vote\n",
    "ensemble_1[:,0,1] = good_voter_good_vote\n",
    "\n",
    "bad_voter_bad_vote = voter_bad.predict(transformer.apply(X1_test)).reshape(X1_test.shape[0])\n",
    "bad_voter_good_vote = voter_bad.predict(transformer.apply(-X1_test)).reshape(X1_test.shape[0])"
   ]
  }
 ],
 "metadata": {
  "kernelspec": {
   "display_name": "Python 3",
   "language": "python",
   "name": "python3"
  },
  "language_info": {
   "codemirror_mode": {
    "name": "ipython",
    "version": 3
   },
   "file_extension": ".py",
   "mimetype": "text/x-python",
   "name": "python",
   "nbconvert_exporter": "python",
   "pygments_lexer": "ipython3",
   "version": "3.7.9"
  }
 },
 "nbformat": 4,
 "nbformat_minor": 4
}
